{
 "cells": [
  {
   "cell_type": "code",
   "execution_count": 1,
   "id": "67c27af0",
   "metadata": {},
   "outputs": [
    {
     "name": "stdout",
     "output_type": "stream",
     "text": [
      "Enter Starting Unit of Measurement(inches, feet, yards): feet\n",
      "Enter Unit of Measurement to Convert to (inches, feet, yards): yards\n",
      "Enter starting Measurement in Feet: 45\n",
      "Result: 45 Feet = 15 Yards\n"
     ]
    }
   ],
   "source": [
    "convert_from = input(\"Enter Starting Unit of Measurement(inches, feet, yards): \")\n",
    "convert_to = input(\"Enter Unit of Measurement to Convert to (inches, feet, yards): \")\n",
    "\n",
    "if convert_from.lower() in [\"inches\",\"in\",\"inch\"]:\n",
    "    number_of_inches = int(input(\"Enter starting Measurement in Inches: \"))\n",
    "    if convert_to.lower() in [\"feet\",\"foot\",\"ft\"]:\n",
    "        print(\"Result: \" + str(number_of_inches) + \" Inches =\" +str(round(number_of_inches /12),2) + \" Feet\")\n",
    "    elif convert_to.lower() in [\"yards\",\"yard\",\"yds\",\"yd\"]:\n",
    "            print(\"Result: \" + str(number_of_inches)+ \" Inches = \"+str(round(number_of_inches/36),2) + \" Yards\")\n",
    "    else:\n",
    "        print(\"Please enter either Inches, Feet, or Yards.\")\n",
    "elif convert_from.lower() in [\"feet\",\"foot\",\"ft\"]:\n",
    "    number_of_feet = int(input(\"Enter starting Measurement in Feet: \"))\n",
    "    if convert_to.lower() in [\"inches\",\"in\",\"inch\"]:\n",
    "        print(\"Result: \" + str(number_of_feet) + \" Feet =\" +str(round(number_of_feet * 12),2) + \" Inches\")\n",
    "    elif convert_to.lower() in [\"yards\",\"yard\",\"yds\",\"yd\"]:\n",
    "        print(\"Result: \" + str(number_of_feet)+ \" Feet = \"+str(round(number_of_feet/3)) + \" Yards\")\n",
    "    else:\n",
    "        print(\"Please enter either Inches, Feet, or Yards.\")\n",
    "elif convert_from.lower() in [\"yards\",\"yard\",\"yds\",\"yd\"]:\n",
    "    number_of_yards = int(input(\"Enter starting Measurement in Yards: \"))\n",
    "    if convert_to.lower() in [\"inches\",\"in\",\"inch\"]:\n",
    "        print(\"Result: \" + str(number_of_yards) + \" Yards =\" +str(round(number_of_yards * 36)) + \" Inches\")\n",
    "    elif convert_to.lower() in [\"yards\",\"yard\",\"yds\",\"yd\"]:\n",
    "        print(\"Result: \" + str(number_of_yards)+ \" Yards = \"+str(round(number_of_yards*3)) + \" Feet\")\n",
    "    else:\n",
    "        print(\"Please enter either Inches, Feet, or Yards.\")\n",
    "else:\n",
    "    print(\"Please enter either Inches, Feet, or Yards.\")"
   ]
  },
  {
   "cell_type": "code",
   "execution_count": null,
   "id": "64c11d5f",
   "metadata": {},
   "outputs": [],
   "source": []
  }
 ],
 "metadata": {
  "kernelspec": {
   "display_name": "Python 3 (ipykernel)",
   "language": "python",
   "name": "python3"
  },
  "language_info": {
   "codemirror_mode": {
    "name": "ipython",
    "version": 3
   },
   "file_extension": ".py",
   "mimetype": "text/x-python",
   "name": "python",
   "nbconvert_exporter": "python",
   "pygments_lexer": "ipython3",
   "version": "3.10.9"
  }
 },
 "nbformat": 4,
 "nbformat_minor": 5
}
